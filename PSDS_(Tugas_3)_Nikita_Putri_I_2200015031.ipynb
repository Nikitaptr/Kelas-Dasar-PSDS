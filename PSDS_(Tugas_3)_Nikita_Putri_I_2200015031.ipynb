{
  "nbformat": 4,
  "nbformat_minor": 0,
  "metadata": {
    "colab": {
      "provenance": [],
      "authorship_tag": "ABX9TyNpk3bGiOEsXZ9oqj2SkRGR"
    },
    "kernelspec": {
      "name": "python3",
      "display_name": "Python 3"
    },
    "language_info": {
      "name": "python"
    }
  },
  "cells": [
    {
      "cell_type": "markdown",
      "source": [
        "# Latihan Operator 1"
      ],
      "metadata": {
        "id": "Y6LuUGHma4Ru"
      }
    },
    {
      "cell_type": "code",
      "execution_count": 4,
      "metadata": {
        "colab": {
          "base_uri": "https://localhost:8080/"
        },
        "id": "_fXp63cWOCt0",
        "outputId": "40d5c07b-e9fc-4eec-b38b-cd44d434819c"
      },
      "outputs": [
        {
          "output_type": "stream",
          "name": "stdout",
          "text": [
            "Penjumlahan\n",
            "8\n",
            "Pengurangan\n",
            "-3\n",
            "Perkalian\n",
            "45\n",
            "Pembagian\n",
            "7.0\n",
            "Modulus\n",
            "0\n",
            "Perpangkatan\n",
            "2401\n",
            "Pembagian pembulatan flooring\n",
            "2\n"
          ]
        }
      ],
      "source": [
        "#Penjumlahan\n",
        "print('Penjumlahan')\n",
        "print(5+3)\n",
        "\n",
        "#Pengurangan\n",
        "print('Pengurangan')\n",
        "print(6-9)\n",
        "\n",
        "#Perkalian\n",
        "print('Perkalian')\n",
        "print(5*9)\n",
        "\n",
        "#Penbagian\n",
        "print('Pembagian')\n",
        "print(42/6)\n",
        "\n",
        "#Modulus\n",
        "print('Modulus')\n",
        "print(4%2)\n",
        "\n",
        "#Perpangkatan\n",
        "print('Perpangkatan')\n",
        "print(7**4)\n",
        "\n",
        "#Pembagian dengan hasil pembulatan flooring\n",
        "print('Pembagian pembulatan flooring')\n",
        "print(9//4)"
      ]
    },
    {
      "cell_type": "markdown",
      "source": [
        "# Latihan Operator 2"
      ],
      "metadata": {
        "id": "VHCplCSEbOTM"
      }
    },
    {
      "cell_type": "code",
      "source": [
        "#Penjumlahan\n",
        "print('Penjumlahan')\n",
        "x=8\n",
        "x=x+4\n",
        "print(x)\n",
        "x=8\n",
        "x+=4\n",
        "print(x)\n",
        "\n",
        "#Pengurangan\n",
        "print('Pengurangan')\n",
        "x=8\n",
        "x=x-4\n",
        "print(x)\n",
        "x=8\n",
        "x-=4\n",
        "print(x)\n",
        "\n",
        "#Perkalian\n",
        "print('Perkalian')\n",
        "x=8\n",
        "x=x*4\n",
        "print(x)\n",
        "x=8\n",
        "x*=4\n",
        "print(x)\n",
        "\n",
        "#Pembagian\n",
        "print('pembagian')\n",
        "x=8\n",
        "x=x/4\n",
        "print(x)\n",
        "x=8\n",
        "x/=4\n",
        "print(x)\n",
        "\n",
        "#Modulus\n",
        "print('Modulus')\n",
        "x=8\n",
        "x=x%4\n",
        "print(x)\n",
        "x=8\n",
        "x%=4\n",
        "print(x)\n",
        "\n",
        "#Pembagian Flooring\n",
        "print('Pembagian Flooring')\n",
        "x=8\n",
        "x=x//5\n",
        "print(x)\n",
        "x=8\n",
        "x//=5\n",
        "print(x)\n",
        "\n",
        "#Perpangkatan\n",
        "print('Perpangkatan')\n",
        "x=8\n",
        "x=x**4\n",
        "print(x)\n",
        "x=8\n",
        "x**=4\n",
        "print(x)"
      ],
      "metadata": {
        "colab": {
          "base_uri": "https://localhost:8080/"
        },
        "id": "dlTYxMy1QM8V",
        "outputId": "df8e8c0a-7f2b-4cdb-e7e7-a5fe9de13b26"
      },
      "execution_count": 6,
      "outputs": [
        {
          "output_type": "stream",
          "name": "stdout",
          "text": [
            "Penjumlahan\n",
            "12\n",
            "12\n",
            "Pengurangan\n",
            "4\n",
            "4\n",
            "Perkalian\n",
            "32\n",
            "32\n",
            "pembagian\n",
            "2.0\n",
            "2.0\n",
            "Modulus\n",
            "0\n",
            "0\n",
            "Pembagian Flooring\n",
            "1\n",
            "1\n",
            "Perpangkatan\n",
            "4096\n",
            "4096\n"
          ]
        }
      ]
    },
    {
      "cell_type": "markdown",
      "source": [
        "# Latihan Operator 3"
      ],
      "metadata": {
        "id": "L6ilPEmrbSuc"
      }
    },
    {
      "cell_type": "code",
      "source": [
        "print(5==3)\n",
        "print(5!=4)\n",
        "print(6>2)\n",
        "print(4<9)\n",
        "print(5>=9)\n",
        "print(5<=7)"
      ],
      "metadata": {
        "colab": {
          "base_uri": "https://localhost:8080/"
        },
        "id": "b0A1C8fVSx9C",
        "outputId": "6791e697-d34d-46ef-c1f7-bafd78e45359"
      },
      "execution_count": 8,
      "outputs": [
        {
          "output_type": "stream",
          "name": "stdout",
          "text": [
            "False\n",
            "True\n",
            "True\n",
            "True\n",
            "False\n",
            "True\n"
          ]
        }
      ]
    },
    {
      "cell_type": "markdown",
      "source": [
        "# Latihan Operator 4"
      ],
      "metadata": {
        "id": "SmD9CUJ_bWKZ"
      }
    },
    {
      "cell_type": "code",
      "source": [
        "print(False and True)\n",
        "print(True or True)\n",
        "print(not True and False)"
      ],
      "metadata": {
        "colab": {
          "base_uri": "https://localhost:8080/"
        },
        "id": "Bdg2WzbFUGvR",
        "outputId": "fd9855f6-acda-4b30-faba-7ab401adb011"
      },
      "execution_count": 9,
      "outputs": [
        {
          "output_type": "stream",
          "name": "stdout",
          "text": [
            "False\n",
            "True\n",
            "False\n"
          ]
        }
      ]
    },
    {
      "cell_type": "markdown",
      "source": [
        "# Latihan Operator 5"
      ],
      "metadata": {
        "id": "_s1aH_tQbZLu"
      }
    },
    {
      "cell_type": "code",
      "source": [
        "a=(2,4,7,5,2)\n",
        "b=2\n",
        "\n",
        "print(b in a)\n",
        "\n",
        "print('-'*20)\n",
        "\n",
        "a=(4,6,7,3)\n",
        "b=7\n",
        "\n",
        "print(b not in a)"
      ],
      "metadata": {
        "colab": {
          "base_uri": "https://localhost:8080/"
        },
        "id": "Fq6Ro36MVuw5",
        "outputId": "98733f71-1b3f-44c7-93d5-ea2c8ae343a7"
      },
      "execution_count": 24,
      "outputs": [
        {
          "output_type": "stream",
          "name": "stdout",
          "text": [
            "True\n",
            "--------------------\n",
            "False\n"
          ]
        }
      ]
    },
    {
      "cell_type": "markdown",
      "source": [
        "# LATIHAN 1"
      ],
      "metadata": {
        "id": "a52OwYtrcO-j"
      }
    },
    {
      "cell_type": "code",
      "source": [
        "# membuat variabel\n",
        "kalimat = 'kelas PSDS'\n",
        "bil1 = 7\n",
        "bil2 = 3.14\n",
        "bil3 = False\n",
        "bil4 = 4j + 6\n",
        "\n",
        "# menampilkan variabel\n",
        "print(kalimat)\n",
        "print(bil1)\n",
        "print(bil2)\n",
        "print(bil3)\n",
        "print(bil4)"
      ],
      "metadata": {
        "colab": {
          "base_uri": "https://localhost:8080/"
        },
        "id": "1qUA3I7CWXbH",
        "outputId": "d7a587ef-f162-4e40-9205-ec1242d73ce1"
      },
      "execution_count": 26,
      "outputs": [
        {
          "output_type": "stream",
          "name": "stdout",
          "text": [
            "kelas PSDS\n",
            "7\n",
            "3.14\n",
            "False\n",
            "(6+4j)\n"
          ]
        }
      ]
    },
    {
      "cell_type": "markdown",
      "source": [
        "# LATIHAN 2"
      ],
      "metadata": {
        "id": "eCXlWupwcbS5"
      }
    },
    {
      "cell_type": "code",
      "source": [
        "# membuat variabel\n",
        "kalimat = 'kelas PSDS'\n",
        "bil1 = 7\n",
        "bil2 = 3.14\n",
        "bil3 = False\n",
        "bil4 = 4j + 6\n",
        "\n",
        "# menampilkan tipe data\n",
        "print(type(kalimat))\n",
        "print(type(bil1))\n",
        "print(type(bil2))\n",
        "print(type(bil3))\n",
        "print(type(bil4))\n"
      ],
      "metadata": {
        "colab": {
          "base_uri": "https://localhost:8080/"
        },
        "id": "BzNN1yIkbo8M",
        "outputId": "21624721-1afe-47c4-9831-89ec37d7a216"
      },
      "execution_count": 27,
      "outputs": [
        {
          "output_type": "stream",
          "name": "stdout",
          "text": [
            "<class 'str'>\n",
            "<class 'int'>\n",
            "<class 'float'>\n",
            "<class 'bool'>\n",
            "<class 'complex'>\n"
          ]
        }
      ]
    },
    {
      "cell_type": "markdown",
      "source": [
        "# LATIHAN 3"
      ],
      "metadata": {
        "id": "FC15x0facdco"
      }
    },
    {
      "cell_type": "code",
      "source": [
        "# membuat variabel\n",
        "kalimat = 'kelas PSDS'\n",
        "bil1 = 7\n",
        "bil2 = 3.14\n",
        "bil3 = False\n",
        "bil4 = 4j + 6\n",
        "\n",
        "# konversi tipe data integer\n",
        "print(int(bil2))\n",
        "print(int(bil1))\n",
        "\n",
        "# konversi tipe data float\n",
        "print (float(bil1))\n",
        "print (float(bil3))\n",
        "\n",
        "# konversi tipe data string\n",
        "print(str(bil1))\n",
        "print(str(bil2))\n",
        "print(str(bil3))\n",
        "\n",
        "# konversi tipe data bool\n",
        "print(bool (bil1))\n",
        "print(bool (bil2))\n",
        "\n",
        "# konversi tipe data complex print(complex (bilangan1))\n",
        "print(complex (bil2))\n",
        "print(complex (bil3))"
      ],
      "metadata": {
        "colab": {
          "base_uri": "https://localhost:8080/"
        },
        "id": "bWCw4GUVX6xm",
        "outputId": "2fac66a5-1965-481d-8ecd-59fe828c5ca1"
      },
      "execution_count": 28,
      "outputs": [
        {
          "output_type": "stream",
          "name": "stdout",
          "text": [
            "3\n",
            "7\n",
            "7.0\n",
            "0.0\n",
            "7\n",
            "3.14\n",
            "False\n",
            "True\n",
            "True\n",
            "(3.14+0j)\n",
            "0j\n"
          ]
        }
      ]
    }
  ]
}