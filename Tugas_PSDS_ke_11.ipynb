{
  "nbformat": 4,
  "nbformat_minor": 0,
  "metadata": {
    "colab": {
      "provenance": [],
      "authorship_tag": "ABX9TyNKoL20fTpLqD4psdY70Kb5",
      "include_colab_link": true
    },
    "kernelspec": {
      "name": "python3",
      "display_name": "Python 3"
    },
    "language_info": {
      "name": "python"
    }
  },
  "cells": [
    {
      "cell_type": "markdown",
      "metadata": {
        "id": "view-in-github",
        "colab_type": "text"
      },
      "source": [
        "<a href=\"https://colab.research.google.com/github/Nikitaptr/Kelas-Dasar-PSDS/blob/main/Tugas_PSDS_ke_11.ipynb\" target=\"_parent\"><img src=\"https://colab.research.google.com/assets/colab-badge.svg\" alt=\"Open In Colab\"/></a>"
      ]
    },
    {
      "cell_type": "code",
      "execution_count": null,
      "metadata": {
        "colab": {
          "base_uri": "https://localhost:8080/"
        },
        "id": "KKdUVpfMX9pK",
        "outputId": "de0c5f32-62f1-49f1-89ce-749367a24eb5"
      },
      "outputs": [
        {
          "output_type": "stream",
          "name": "stdout",
          "text": [
            "Luas persegi panjang : 50\n"
          ]
        }
      ],
      "source": [
        "hitung_luas_persegi_panjang = lambda panjang, lebar : panjang * lebar\n",
        "\n",
        "panjang = 5\n",
        "lebar = 10\n",
        "\n",
        "luas = hitung_luas_persegi_panjang(panjang, lebar)\n",
        "print(\"Luas persegi panjang :\", luas)"
      ]
    },
    {
      "cell_type": "code",
      "source": [
        "hitung_luas_segitiga = lambda alas, tinggi : 0.5*alas*tinggi\n",
        "\n",
        "alas = 12\n",
        "tinggi = 5\n",
        "\n",
        "luas = hitung_luas_segitiga(alas, tinggi)\n",
        "print(\"Luas segitiga :\", luas)"
      ],
      "metadata": {
        "colab": {
          "base_uri": "https://localhost:8080/"
        },
        "id": "yE13ayJFflP8",
        "outputId": "1fb4271b-4fc6-45f7-d57d-35a0e56ae712"
      },
      "execution_count": null,
      "outputs": [
        {
          "output_type": "stream",
          "name": "stdout",
          "text": [
            "Luas segitiga : 30.0\n"
          ]
        }
      ]
    }
  ]
}