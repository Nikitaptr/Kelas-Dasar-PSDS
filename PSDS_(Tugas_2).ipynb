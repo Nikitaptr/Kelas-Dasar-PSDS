{
  "nbformat": 4,
  "nbformat_minor": 0,
  "metadata": {
    "colab": {
      "provenance": [],
      "authorship_tag": "ABX9TyN/OFMTWZnOxpvRS0mCokUl"
    },
    "kernelspec": {
      "name": "python3",
      "display_name": "Python 3"
    },
    "language_info": {
      "name": "python"
    }
  },
  "cells": [
    {
      "cell_type": "markdown",
      "source": [
        "#Pengenalan Phyton\n"
      ],
      "metadata": {
        "id": "HIUxfSzRQ944"
      }
    },
    {
      "cell_type": "markdown",
      "source": [
        "Phyton adalah Bahasa pemrograman tingkat tinggi dengan dynamic semantics, bersifat object oriented, dan interpretatif. Bahasa pemrograman ini fokus dikembangkan pada keterbacaan bahasa pemrograman.\n",
        "1. **Bahasa Pemrograman Tingkat Tinggi (High Level Programming)** Artinya sintaks kode\n",
        "lebih mudah ditafsirkan oleh manusia.\n",
        "2. **Interpretatif** Ini artinya bahasa ini memerlukan intrepeter atau penerjemah. Ini\n",
        "memungkinkan kita untuk menggunakan Bahasa yang lebih mudah kita pahami.\n",
        "3. **Object Oriented** Ini berarti bahwa bahasa pemrograman ini berorientasi kepada objek. Hal\n",
        "ini membuat Phyton lebih mudah untuk dikembangkan.\n",
        "4. **Dynamic Semantic** Phyton secara otomatis akan menyesuaikan tipe dari suatu variable\n",
        "berdasarkan inputnya.\n"
      ],
      "metadata": {
        "id": "KjJiME8BRG7s"
      }
    },
    {
      "cell_type": "markdown",
      "source": [
        "#Mengapa Phyton ?"
      ],
      "metadata": {
        "id": "KDHatw-aRTgc"
      }
    },
    {
      "cell_type": "markdown",
      "source": [
        "1. Mudah dipahami\n",
        "2. Grafis & Open Source\n",
        "3. Dinamis\n",
        "4. Memiliki Library Terlengkap untuk Data Sains"
      ],
      "metadata": {
        "id": "Yhj-97vaRroz"
      }
    },
    {
      "cell_type": "markdown",
      "source": [
        "#Struktur Program Pada Phyton\n"
      ],
      "metadata": {
        "id": "mIcyWmdcR_RE"
      }
    },
    {
      "cell_type": "markdown",
      "source": [
        "Phyton pada umumnya terdiri dari :\n",
        "\n",
        "\n",
        "1. **Statement**\n",
        "\n",
        "\n",
        "```\n",
        "print(\"belajar Phyton menyenangkan\")\n",
        "print(\"halo dunia\")\n",
        "\n",
        "      belajar Phyton menyenangkan\n",
        "      halo dunia\n",
        "```\n",
        "2. **Variables**\n",
        "\n",
        "\n",
        "```\n",
        "bilangan1 = 5\n",
        "bilangan2 = 10\n",
        "kalimat = \"Pejuang Data 3\"\n",
        "\n",
        "```\n",
        "3. **Literals**: Simbol-simbol yang dapat kita gunakan untuk mengisi suatu variable\n",
        "\n",
        "4. **Operators** : Simbol-simbol yang dapat digunakan untuk mengubah nilai dari satu variable dengan melibatkan satu atau lebih variable dan literal\n",
        "\n",
        "\n",
        "```\n",
        "bilangan1 + bilangan2\n",
        "\n",
        "    15\n",
        "```\n",
        "5. **Reserved Words** : Kumpulan kata-kata yang memiliki makna khusus dalam bahasa\n",
        "pemrograman Phyton. Kata false , return, dan for merupakan contoh dari reserved\n",
        "words.\n",
        "\n",
        "6. **Whitespace** : Pada bahasa Phyton, spasi dan tab memiliki makna khusus untuk menandai serangkaian blok dalam kode Phyton.\n",
        "\n",
        "7. **Comments** : Comments merupakan sekumpulan teks yang dituliskan di dalam sebuah program yang tidak akan mempengaruhi hasil dari sebuah pemrograman.\n",
        "\n",
        "\n",
        "> Terdapat dua jenis comments di dalam Phyton, yaitu :\n",
        "\n",
        "\n",
        "\n",
        "> a. **single line comment** (comments dalam satu baris) seperti contoh berikut :\n",
        "\n",
        "```\n",
        "# Ini adalah Comment\n",
        "print(\"belajar Phyton\")\n",
        "\n",
        "    belajar Phyton\n",
        "```\n",
        "> b. **multi line comment** (comments dalam beberapa baris) yang dapat dilakukan\n",
        "seperti pada contoh berikut :\n",
        "\n",
        "\n",
        "```\n",
        "'''\n",
        "Ini adalah komentar panjang\n",
        "Bisa digunakan untuk memberikan penjelasan panjang pada Sell Kode Phyton,\n",
        "Misal dokumentasi program, spesifikasi\n",
        "input output atau lainnya\n",
        "print('Belajar Phyton menyenangkan')\n",
        "\n",
        "    Belajar Phyton menyenangkan\n",
        "\n",
        "```\n",
        "\n",
        "\n",
        "\n",
        "\n",
        "\n"
      ],
      "metadata": {
        "id": "u2tlFAzISDxm"
      }
    }
  ]
}